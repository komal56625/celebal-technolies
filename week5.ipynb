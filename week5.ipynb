{
 "cells": [
  {
   "cell_type": "code",
   "execution_count": 3,
   "id": "8d92234d",
   "metadata": {},
   "outputs": [],
   "source": [
    "# 1. Import required libraries\n",
    "import numpy as np\n",
    "import pandas as pd\n",
    "import matplotlib.pyplot as plt\n",
    "import seaborn as sns\n",
    "\n",
    "from sklearn.model_selection import train_test_split, cross_val_score\n",
    "from sklearn.preprocessing import StandardScaler, LabelEncoder\n",
    "from sklearn.ensemble import RandomForestRegressor, GradientBoostingRegressor\n",
    "from sklearn.metrics import mean_squared_error\n",
    "from sklearn.impute import SimpleImputer\n",
    "\n",
    "import warnings\n",
    "warnings.filterwarnings('ignore')\n"
   ]
  },
  {
   "cell_type": "code",
   "execution_count": 4,
   "id": "aa710144",
   "metadata": {},
   "outputs": [
    {
     "data": {
      "text/plain": [
       "(      price  area  bedrooms  bathrooms  stories mainroad guestroom basement  \\\n",
       " 0  13300000  7420         4          2        3      yes        no       no   \n",
       " 1  12250000  8960         4          4        4      yes        no       no   \n",
       " 2  12250000  9960         3          2        2      yes        no      yes   \n",
       " 3  12215000  7500         4          2        2      yes        no      yes   \n",
       " 4  11410000  7420         4          1        2      yes       yes      yes   \n",
       " \n",
       "   hotwaterheating airconditioning  parking prefarea furnishingstatus  \n",
       " 0              no             yes        2      yes        furnished  \n",
       " 1              no             yes        3       no        furnished  \n",
       " 2              no              no        2      yes   semi-furnished  \n",
       " 3              no             yes        3      yes        furnished  \n",
       " 4              no             yes        2       no        furnished  ,\n",
       " (545, 13))"
      ]
     },
     "execution_count": 4,
     "metadata": {},
     "output_type": "execute_result"
    }
   ],
   "source": [
    "# 2. Load Dataset\n",
    "df = pd.read_csv(\"Housing.csv\")\n",
    "df.head(), df.shape\n"
   ]
  },
  {
   "cell_type": "code",
   "execution_count": 5,
   "id": "c1dd5ea6",
   "metadata": {},
   "outputs": [
    {
     "name": "stdout",
     "output_type": "stream",
     "text": [
      "<class 'pandas.core.frame.DataFrame'>\n",
      "RangeIndex: 545 entries, 0 to 544\n",
      "Data columns (total 13 columns):\n",
      " #   Column            Non-Null Count  Dtype \n",
      "---  ------            --------------  ----- \n",
      " 0   price             545 non-null    int64 \n",
      " 1   area              545 non-null    int64 \n",
      " 2   bedrooms          545 non-null    int64 \n",
      " 3   bathrooms         545 non-null    int64 \n",
      " 4   stories           545 non-null    int64 \n",
      " 5   mainroad          545 non-null    object\n",
      " 6   guestroom         545 non-null    object\n",
      " 7   basement          545 non-null    object\n",
      " 8   hotwaterheating   545 non-null    object\n",
      " 9   airconditioning   545 non-null    object\n",
      " 10  parking           545 non-null    int64 \n",
      " 11  prefarea          545 non-null    object\n",
      " 12  furnishingstatus  545 non-null    object\n",
      "dtypes: int64(6), object(7)\n",
      "memory usage: 55.5+ KB\n"
     ]
    },
    {
     "data": {
      "text/plain": [
       "<Axes: >"
      ]
     },
     "execution_count": 5,
     "metadata": {},
     "output_type": "execute_result"
    },
    {
     "data": {
      "image/png": "[encoded data removed]",
      "text/plain": [
       "<Figure size 640x480 with 1 Axes>"
      ]
     },
     "metadata": {},
     "output_type": "display_data"
    }
   ],
   "source": [
    "# 3. Explore & Understand Data\n",
    "df.info()\n",
    "df.describe()\n",
    "sns.heatmap(df.isnull(), cbar=False, yticklabels=False, cmap='viridis')\n"
   ]
  },
  {
   "cell_type": "code",
   "execution_count": 6,
   "id": "8128c1b7",
   "metadata": {},
   "outputs": [
    {
     "data": {
      "text/plain": [
       "Series([], dtype: int64)"
      ]
     },
     "execution_count": 6,
     "metadata": {},
     "output_type": "execute_result"
    }
   ],
   "source": [
    "# 4. Handle missing values\n",
    "\n",
    "# a) Show missing value counts\n",
    "missing = df.isnull().sum().sort_values(ascending=False)\n",
    "missing[missing > 0]\n"
   ]
  },
  {
   "cell_type": "code",
   "execution_count": 7,
   "id": "b9276cd8",
   "metadata": {},
   "outputs": [],
   "source": [
    "# b) Impute numerical columns with median\n",
    "num_cols = df.select_dtypes(include=[np.number]).columns.tolist()\n",
    "imputer = SimpleImputer(strategy=\"median\")\n",
    "df[num_cols] = imputer.fit_transform(df[num_cols])\n"
   ]
  },
  {
   "cell_type": "code",
   "execution_count": 8,
   "id": "543607bf",
   "metadata": {},
   "outputs": [],
   "source": [
    "# c) Impute categorical columns with mode\n",
    "cat_cols = df.select_dtypes(include=[object]).columns.tolist()\n",
    "imputer_str = SimpleImputer(strategy=\"most_frequent\")\n",
    "df[cat_cols] = imputer_str.fit_transform(df[cat_cols])\n"
   ]
  },
  {
   "cell_type": "code",
   "execution_count": 9,
   "id": "956e1f31",
   "metadata": {},
   "outputs": [],
   "source": [
    "# 5. Encode Categorical Variables\n",
    "for col in cat_cols:\n",
    "    df[col] = LabelEncoder().fit_transform(df[col].astype(str))\n"
   ]
  },
  {
   "cell_type": "code",
   "execution_count": 10,
   "id": "e9bbd8b8",
   "metadata": {},
   "outputs": [],
   "source": [
    "# 6. Feature Engineering (optional but helpful)\n",
    "# Example: Transform skewed numeric features\n",
    "skewed_feats = df[num_cols].apply(lambda x: x.skew()).sort_values(ascending=False)\n",
    "high_skew = skewed_feats[abs(skewed_feats) > 0.75].index\n",
    "for col in high_skew:\n",
    "    df[col] = np.log1p(df[col])\n",
    "\n",
    "# Another example: Add Bedrooms per House Ratio\n",
    "if 'Bedrooms' in df.columns and 'Floors' in df.columns:\n",
    "    df['BedPerFloor'] = df['Bedrooms'] / (df['Floors'] + 1)\n"
   ]
  },
  {
   "cell_type": "code",
   "execution_count": 17,
   "id": "ad94973b",
   "metadata": {},
   "outputs": [],
   "source": [
    "# 7. Define Features and Target\n",
    "y = df[\"price\"]  # price column yahan hai\n",
    "X = df.drop(\"price\", axis=1)\n"
   ]
  },
  {
   "cell_type": "code",
   "execution_count": 18,
   "id": "096f5627",
   "metadata": {},
   "outputs": [],
   "source": [
    "# 8. Train/Test Split\n",
    "X_train, X_valid, y_train, y_valid = train_test_split(\n",
    "    X, y, test_size=0.2, random_state=42)\n"
   ]
  },
  {
   "cell_type": "code",
   "execution_count": 19,
   "id": "d9fff58e",
   "metadata": {},
   "outputs": [],
   "source": [
    "# 9. Scale features\n",
    "scaler = StandardScaler()\n",
    "X_train_scaled = scaler.fit_transform(X_train)\n",
    "X_valid_scaled = scaler.transform(X_valid)\n"
   ]
  },
  {
   "cell_type": "code",
   "execution_count": 20,
   "id": "7f3ce0e2",
   "metadata": {},
   "outputs": [
    {
     "name": "stdout",
     "output_type": "stream",
     "text": [
      "RF RMSE: 0.26450315510812\n",
      "GB RMSE: 0.2582264616609113\n"
     ]
    }
   ],
   "source": [
    "# 10. Train Models\n",
    "\n",
    "# Random Forest\n",
    "rf = RandomForestRegressor(n_estimators=200, random_state=42)\n",
    "rf.fit(X_train_scaled, y_train)\n",
    "rf_preds = rf.predict(X_valid_scaled)\n",
    "rf_rmse = np.sqrt(mean_squared_error(y_valid, rf_preds))\n",
    "print(\"RF RMSE:\", rf_rmse)\n",
    "\n",
    "# Gradient Boosting\n",
    "gb = GradientBoostingRegressor(n_estimators=200, learning_rate=0.1, random_state=42)\n",
    "gb.fit(X_train_scaled, y_train)\n",
    "gb_preds = gb.predict(X_valid_scaled)\n",
    "gb_rmse = np.sqrt(mean_squared_error(y_valid, gb_preds))\n",
    "print(\"GB RMSE:\", gb_rmse)\n"
   ]
  },
  {
   "cell_type": "code",
   "execution_count": 21,
   "id": "97556af3",
   "metadata": {},
   "outputs": [
    {
     "data": {
      "text/plain": [
       "Text(0.5, 1.0, 'Top 15 Feature Importances - Random Forest')"
      ]
     },
     "execution_count": 21,
     "metadata": {},
     "output_type": "execute_result"
    },
    {
     "data": {
      "image/png": "[encoded data removed]",
      "text/plain": [
       "<Figure size 640x480 with 1 Axes>"
      ]
     },
     "metadata": {},
     "output_type": "display_data"
    }
   ],
   "source": [
    "# 11. Feature Importance (Optional)\n",
    "importances = pd.Series(rf.feature_importances_, index=X.columns)\n",
    "importances.sort_values(ascending=False)[:15].plot(kind=\"barh\")\n",
    "plt.title(\"Top 15 Feature Importances - Random Forest\")\n"
   ]
  },
  {
   "cell_type": "code",
   "execution_count": 22,
   "id": "3afe7b37",
   "metadata": {},
   "outputs": [
    {
     "name": "stdout",
     "output_type": "stream",
     "text": [
      "CV RF RMSE: 0.3012231535979011\n"
     ]
    }
   ],
   "source": [
    "# 12. Predict on full dataset or unseen test data\n",
    "# Agar aapke paas test set hai to:\n",
    "# X_test_scaled = scaler.transform(X_test)\n",
    "# preds_test = (rf.predict(X_test_scaled) + gb.predict(X_test_scaled)) / 2\n",
    "\n",
    "# Agar nahi hai, to hum full-data cross-validation kar sakte hain:\n",
    "cv_scores = cross_val_score(rf, scaler.fit_transform(X), y, cv=5, scoring=\"neg_root_mean_squared_error\")\n",
    "print(\"CV RF RMSE:\", -cv_scores.mean())\n"
   ]
  },
  {
   "cell_type": "code",
   "execution_count": null,
   "id": "94f042b1",
   "metadata": {},
   "outputs": [],
   "source": []
  }
 ],
 "metadata": {
  "kernelspec": {
   "display_name": "base",
   "language": "python",
   "name": "python3"
  },
  "language_info": {
   "codemirror_mode": {
    "name": "ipython",
    "version": 3
   },
   "file_extension": ".py",
   "mimetype": "text/x-python",
   "name": "python",
   "nbconvert_exporter": "python",
   "pygments_lexer": "ipython3",
   "version": "3.12.3"
  }
 },
 "nbformat": 4,
 "nbformat_minor": 5
}
