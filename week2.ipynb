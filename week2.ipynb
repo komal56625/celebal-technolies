{
 "cells": [
  {
   "cell_type": "code",
   "execution_count": 1,
   "id": "244bd708",
   "metadata": {},
   "outputs": [],
   "source": [
    "# Step 1: Node class banate hain - ek node ka data aur next pointer hota hai\n",
    "class Node:\n",
    "    def __init__(self, data):\n",
    "        self.data = data\n",
    "        self.next = None  # Next node ka address yahan store hoga\n"
   ]
  },
  {
   "cell_type": "code",
   "execution_count": 2,
   "metadata": {},
   "outputs": [],
   "source": [
    "# Step 2: LinkedList class banate hain - yeh pura list handle karega\n",
    "class LinkedList:\n",
    "    def __init__(self):\n",
    "        self.head = None  # Shuru me list empty hoti hai\n"
   ]
  },
  {
   "cell_type": "code",
   "execution_count": 3,
   "metadata": {},
   "outputs": [],
   "source": [
    "    # Step 3: Ek function banate hain list me new node add karne ke liye\n",
    "    def append(self, data):\n",
    "        new_node = Node(data)  # New node banaya\n",
    "        if self.head is None:\n",
    "            self.head = new_node  # Agar list empty hai to head hi new node ban jaayega\n",
    "        else:\n",
    "            current = self.head\n",
    "            while current.next:  # Last tak jaate hain\n",
    "                current = current.next\n",
    "            current.next = new_node  # Last wale node ka next new node ban jaata hai\n"
   ]
  },
  {
   "cell_type": "code",
   "execution_count": 4,
   "metadata": {},
   "outputs": [],
   "source": [
    "    # Step 4: List ke sare elements print karne ka function\n",
    "    def print_list(self):\n",
    "        if self.head is None:\n",
    "            print(\"List khali hai.\")\n",
    "        else:\n",
    "            current = self.head\n",
    "            while current:\n",
    "                print(current.data, end=\" -> \")\n",
    "                current = current.next\n",
    "            print(\"None\")  # Last me None print hota hai\n"
   ]
  },
  {
   "cell_type": "code",
   "execution_count": 5,
   "id": "8f1029c8",
   "metadata": {},
   "outputs": [],
   "source": [
    "    # Step 5: nth node delete karne ka function\n",
    "    def delete_nth_node(self, n):\n",
    "        if self.head is None:\n",
    "            print(\"List khali hai. Delete nahi kar sakte.\")\n",
    "            return\n",
    "\n",
    "        if n <= 0:\n",
    "            print(\"Invalid position! Position 1 ya usse zyada honi chahiye.\")\n",
    "            return\n",
    "\n",
    "        if n == 1:\n",
    "            # Agar head hi delete karna ho\n",
    "            print(f\"Node '{self.head.data}' position 1 se delete kiya gaya.\")\n",
    "            self.head = self.head.next\n",
    "            return\n",
    "\n",
    "        current = self.head\n",
    "        count = 1\n",
    "        while current and count < n - 1:\n",
    "            current = current.next\n",
    "            count += 1\n",
    "\n",
    "        if current is None or current.next is None:\n",
    "            print(\"Position list ke bahar hai. Delete nahi ho sakta.\")\n",
    "            return\n",
    "\n",
    "        print(f\"Node '{current.next.data}' position {n} se delete kiya gaya.\")\n",
    "        current.next = current.next.next  # Node delete kar diya\n"
   ]
  },
  {
   "cell_type": "code",
   "execution_count": 11,
   "id": "c0e313b7",
   "metadata": {},
   "outputs": [
    {
     "name": "stdout",
     "output_type": "stream",
     "text": [
      "Initial Linked List:\n",
      "10 -> 20 -> 30 -> 40 -> 50 -> None\n",
      "Deleted node at position 3 with value 30\n",
      "After deleting 3rd node:\n",
      "10 -> 20 -> 40 -> 50 -> None\n",
      "Error: Index out of range.\n",
      "Deleted node at position 1 with value 10\n",
      "After deleting head node:\n",
      "20 -> 40 -> 50 -> None\n",
      "Error: Cannot delete from an empty list.\n"
     ]
    }
   ],
   "source": [
    "if __name__ == \"__main__\":\n",
    "    ll = LinkedList()\n",
    "    \n",
    "    # Adding nodes to the list\n",
    "    ll.append(10)\n",
    "    ll.append(20)\n",
    "    ll.append(30)\n",
    "    ll.append(40)\n",
    "    ll.append(50)\n",
    "    \n",
    "    print(\"Initial Linked List:\")\n",
    "    ll.print_list()\n",
    "\n",
    "    # Deleting the 3rd node (value 30)\n",
    "    ll.delete_nth_node(3)\n",
    "    print(\"After deleting 3rd node:\")\n",
    "    ll.print_list()\n",
    "\n",
    "    # Trying to delete a node at an invalid position\n",
    "    ll.delete_nth_node(10)\n",
    "\n",
    "    # Deleting the 1st node (head)\n",
    "    ll.delete_nth_node(1)\n",
    "    print(\"After deleting head node:\")\n",
    "    ll.print_list()\n",
    "\n",
    "    # Trying to delete from an empty list\n",
    "    empty_list = LinkedList()\n",
    "    empty_list.delete_nth_node(1)\n"
   ]
  },
  {
   "cell_type": "code",
   "execution_count": null,
   "id": "2b99ca53",
   "metadata": {},
   "outputs": [],
   "source": []
  },
  {
   "cell_type": "code",
   "execution_count": null,
   "id": "14303dc8",
   "metadata": {},
   "outputs": [],
   "source": []
  },
  {
   "cell_type": "code",
   "execution_count": null,
   "id": "de081a4b",
   "metadata": {},
   "outputs": [],
   "source": []
  },
  {
   "cell_type": "code",
   "execution_count": null,
   "id": "4c6eacbd",
   "metadata": {},
   "outputs": [],
   "source": []
  }
 ],
 "metadata": {
  "kernelspec": {
   "display_name": "base",
   "language": "python",
   "name": "python3"
  },
  "language_info": {
   "codemirror_mode": {
    "name": "ipython",
    "version": 3
   },
   "file_extension": ".py",
   "mimetype": "text/x-python",
   "name": "python",
   "nbconvert_exporter": "python",
   "pygments_lexer": "ipython3",
   "version": "3.12.7"
  }
 },
 "nbformat": 4,
 "nbformat_minor": 5
}
